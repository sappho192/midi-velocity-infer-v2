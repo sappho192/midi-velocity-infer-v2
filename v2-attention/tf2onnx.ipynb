{
 "cells": [
  {
   "cell_type": "code",
   "execution_count": 2,
   "metadata": {},
   "outputs": [],
   "source": [
    "# pip install onnxruntime \n",
    "# pip install --user tf2onnx\n",
    "import tensorflow as tf\n",
    "\n",
    "from keras.losses import mse, cosine_similarity\n",
    "def make_mse_cosine_loss(alpha):\n",
    "    def mse_cosine_loss(y_true, y_pred):\n",
    "        # y_pred = tf.clip_by_value(y_pred, clip_value_min=0, clip_value_max=127)\n",
    "        return alpha * (1 * cosine_similarity(y_true, y_pred)) + (1 - alpha) * mse(y_true, y_pred)\n",
    "    return mse_cosine_loss\n",
    "\n",
    "ALPHA = 0.15\n",
    "mse_cosine_loss = make_mse_cosine_loss(ALPHA)\n",
    "\n",
    "MODEL_H5_PATH = 'saved_models/mvi-v2-2023-07-20_13-00_56-h4-e5-mse_cosine_loss-alpha0.15-m0.60-LSTM-luong_attention-MAESTRO.h5'\n",
    "model = tf.keras.models.load_model(MODEL_H5_PATH, custom_objects={'mse_cosine_loss': mse_cosine_loss})"
   ]
  },
  {
   "cell_type": "code",
   "execution_count": 4,
   "metadata": {},
   "outputs": [],
   "source": [
    "import tf2onnx\n",
    "from pathlib import Path\n",
    "\n",
    "onnx_model, _ = tf2onnx.convert.from_keras(model, input_signature=None)\n",
    "\n",
    "MODEL_ONNX_PATH = f'{Path(MODEL_H5_PATH).stem}.onnx'\n",
    "output_path = f'saved_models/{MODEL_ONNX_PATH}'\n",
    "with open(output_path, 'wb') as f:\n",
    "    f.write(onnx_model.SerializeToString())"
   ]
  }
 ],
 "metadata": {
  "kernelspec": {
   "display_name": "tf2p39",
   "language": "python",
   "name": "python3"
  },
  "language_info": {
   "codemirror_mode": {
    "name": "ipython",
    "version": 3
   },
   "file_extension": ".py",
   "mimetype": "text/x-python",
   "name": "python",
   "nbconvert_exporter": "python",
   "pygments_lexer": "ipython3",
   "version": "3.9.0"
  },
  "orig_nbformat": 4
 },
 "nbformat": 4,
 "nbformat_minor": 2
}
